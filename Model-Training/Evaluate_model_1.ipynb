{
  "cells": [
    {
      "cell_type": "markdown",
      "metadata": {
        "colab_type": "text",
        "id": "view-in-github"
      },
      "source": [
        "<a href=\"https://colab.research.google.com/github/Devasy23/FaceRec/blob/feat%2FModel-evaluation/Model-Training/Evaluate_model_1.ipynb\" target=\"_parent\"><img src=\"https://colab.research.google.com/assets/colab-badge.svg\" alt=\"Open In Colab\"/></a>"
      ]
    },
    {
      "cell_type": "code",
      "execution_count": null,
      "metadata": {},
      "outputs": [],
      "source": [
        "!pip install deepface"
      ]
    },
    {
      "cell_type": "markdown",
      "metadata": {},
      "source": [
        "# Downloading Data"
      ]
    },
    {
      "cell_type": "code",
      "execution_count": 4,
      "metadata": {
        "colab": {
          "base_uri": "https://localhost:8080/"
        },
        "id": "NI6P1qt_h_hm",
        "outputId": "3f3a0335-a6f7-4f78-bbe6-3e7ccad469bb"
      },
      "outputs": [
        {
          "name": "stdout",
          "output_type": "stream",
          "text": [
            "--2024-07-14 19:01:26--  http://vis-www.cs.umass.edu/lfw/lfw.tgz\n",
            "Resolving vis-www.cs.umass.edu (vis-www.cs.umass.edu)... 128.119.244.95\n",
            "Connecting to vis-www.cs.umass.edu (vis-www.cs.umass.edu)|128.119.244.95|:80... connected.\n",
            "HTTP request sent, awaiting response... 200 OK\n",
            "Length: 180566744 (172M) [application/x-gzip]\n",
            "Saving to: ‘lfw.tgz’\n",
            "\n",
            "lfw.tgz             100%[===================>] 172.20M   308KB/s    in 6m 39s  \n",
            "\n",
            "2024-07-14 19:08:06 (442 KB/s) - ‘lfw.tgz’ saved [180566744/180566744]\n",
            "\n"
          ]
        }
      ],
      "source": [
        "!wget http://vis-www.cs.umass.edu/lfw/lfw.tgz"
      ]
    },
    {
      "cell_type": "code",
      "execution_count": null,
      "metadata": {
        "colab": {
          "base_uri": "https://localhost:8080/"
        },
        "id": "JgJ3e_jmh_X3",
        "outputId": "4979c5db-212b-4691-873a-4c72d67f63b4"
      },
      "outputs": [],
      "source": [
        "!tar -xzvf lfw.tgz"
      ]
    },
    {
      "cell_type": "code",
      "execution_count": 6,
      "metadata": {
        "colab": {
          "base_uri": "https://localhost:8080/"
        },
        "id": "1X2EFr3WiOKo",
        "outputId": "d0335532-7804-4ba5-ef96-ea7a7f8de68e"
      },
      "outputs": [
        {
          "name": "stdout",
          "output_type": "stream",
          "text": [
            "Removed 5326 folders\n"
          ]
        }
      ],
      "source": [
        "import os\n",
        "import shutil\n",
        "count=0\n",
        "for folder in os.listdir('lfw'):\n",
        "    if len(os.listdir(f'lfw/{folder}')) < 5:\n",
        "        shutil.rmtree(f'lfw/{folder}')\n",
        "        count+=1\n",
        "print(f\"Removed {count} folders\")\n",
        "print(f\"Remaining folders: {len(os.listdir('lfw'))}\")"
      ]
    },
    {
      "cell_type": "markdown",
      "metadata": {},
      "source": [
        "# Downloading Model"
      ]
    },
    {
      "cell_type": "code",
      "execution_count": null,
      "metadata": {},
      "outputs": [],
      "source": [
        "!huggingface-cli login"
      ]
    },
    {
      "cell_type": "code",
      "execution_count": null,
      "metadata": {},
      "outputs": [],
      "source": [
        "finetuned_model_dir = \"model\"\n",
        "\n",
        "from huggingface_hub import snapshot_download\n",
        "snapshot_download(repo_id='DnD11/FaceNet_Finetuned', repo_type=\"model\", local_dir=finetuned_model_dir)"
      ]
    },
    {
      "cell_type": "markdown",
      "metadata": {
        "id": "mlEhvK1rh_IX"
      },
      "source": [
        "# Evaluation"
      ]
    },
    {
      "cell_type": "code",
      "execution_count": null,
      "metadata": {
        "colab": {
          "base_uri": "https://localhost:8080/",
          "height": 49,
          "referenced_widgets": [
            "a4fedddf367d4e138aa6d39aaf24453e",
            "d83a5f0afd474baea31297efbfeaae28",
            "ed31ce0bd53e40878df27ade029b7b90",
            "58cc95e04d0a4df49b422ee5ea605e33",
            "ed0b3ae9fd3640a68dd9a233845b43d1",
            "f33a2d29c4254b288e74961dc2d33beb",
            "e2e91221d6bd4ee7ad6dd4d318d457fd",
            "64b68a7fbed5414d8f234d14a4007da2",
            "d465d83af1e3435ea276e49d5dbc8147",
            "e034193c3653424287e318b5db3bac27",
            "9855b764e56d47078fb9f5f7e956b86d"
          ]
        },
        "id": "v5_9g5wwh0oi",
        "outputId": "61af69e0-c435-42b0-a8e4-20f0882e0852"
      },
      "outputs": [
        {
          "data": {
            "application/vnd.jupyter.widget-view+json": {
              "model_id": "a4fedddf367d4e138aa6d39aaf24453e",
              "version_major": 2,
              "version_minor": 0
            },
            "text/plain": [
              "  0%|          | 0/423 [00:00<?, ?it/s]"
            ]
          },
          "metadata": {},
          "output_type": "display_data"
        }
      ],
      "source": [
        "import os\n",
        "import numpy as np\n",
        "from tqdm import tqdm_notebook\n",
        "from keras.models import load_model\n",
        "from keras.preprocessing import image\n",
        "from sklearn.metrics.pairwise import euclidean_distances\n",
        "from deepface import DeepFace\n",
        "import tensorflow as tf\n",
        "\n",
        "# Function to load and preprocess images\n",
        "def load_and_preprocess_image(img_path, target_size=(160, 160)):\n",
        "    img = image.load_img(img_path, target_size=target_size)\n",
        "    img_array = image.img_to_array(img)\n",
        "    img_array = np.expand_dims(img_array, axis=0)\n",
        "    img_array /= 255.0\n",
        "    return img_array\n",
        "\n",
        "# Function to generate embeddings\n",
        "def generate_embeddings(model, dataset_path, deepface = False):\n",
        "    embeddings = []\n",
        "    labels = []\n",
        "\n",
        "    for class_name in tqdm_notebook(os.listdir(dataset_path)):\n",
        "        class_path = os.path.join(dataset_path, class_name)\n",
        "        if not os.path.isdir(class_path):\n",
        "            continue\n",
        "\n",
        "        for img_name in os.listdir(class_path):\n",
        "            img_path = os.path.join(class_path, img_name)\n",
        "            img_array = load_and_preprocess_image(img_path)\n",
        "            if deepface:\n",
        "                embedding = DeepFace.represent(img_path=img_path, model_name = \"Facenet512\", enforce_detection=False)\n",
        "            else:\n",
        "                embedding = model.predict(img_array)\n",
        "            embeddings.append(embedding[0])\n",
        "            labels.append(class_name)\n",
        "\n",
        "    embeddings = np.array(embeddings)\n",
        "    labels = np.array(labels)\n",
        "    return embeddings, labels\n",
        "\n",
        "# Function to calculate intra-cluster distances\n",
        "def calculate_intra_cluster_distances(embeddings, labels):\n",
        "    unique_labels = np.unique(labels)\n",
        "    distances = []\n",
        "\n",
        "    for label in unique_labels:\n",
        "        cluster_embeddings = embeddings[labels == label]\n",
        "        avg_embedding = np.mean(cluster_embeddings, axis=0)\n",
        "        max_distance = np.max(euclidean_distances(cluster_embeddings, [avg_embedding]))\n",
        "        distances.append(max_distance)\n",
        "\n",
        "    return np.array(distances)\n",
        "\n",
        "# Load the pre-trained FaceNet model (replace 'facenet_model.h5' with your model file)\n",
        "# model_path = 'facenet_model.h5'\n",
        "# model = load_model(model_path)\n",
        "\n",
        "# Path to the dataset\n",
        "dataset_path = 'lfw'\n",
        "model=1\n",
        "# Generate embeddings for the original model\n",
        "embeddings_original, labels = generate_embeddings(model, dataset_path, True)\n",
        "\n",
        "# Load the fine-tuned model \n",
        "finetuned_model = tf.saved_model.load(export_dir=finetuned_model_dir)\n",
        "embeddings_finetuned, _ = generate_embeddings(finetuned_model, dataset_path)\n",
        "\n",
        "# Calculate intra-cluster distances for both models\n",
        "intra_distances_original = calculate_intra_cluster_distances(embeddings_original, labels)\n",
        "intra_distances_finetuned = calculate_intra_cluster_distances(embeddings_finetuned, labels)\n",
        "\n",
        "# Compare intra-cluster distances\n",
        "intra_distance_change = intra_distances_finetuned - intra_distances_original\n",
        "\n",
        "# Output the results\n",
        "print(f\"Intra-Cluster Distance Change: {intra_distance_change}\")\n",
        "print(f\"Mean Distance Change: {np.mean(intra_distance_change)}\")\n",
        "print(f\"Positive Impact: {np.sum(intra_distance_change < 0)}\")\n",
        "print(f\"Negative Impact: {np.sum(intra_distance_change > 0)}\")\n",
        "print(f\"Average Impact: {np.sum(intra_distance_change == 0)}\")"
      ]
    },
    {
      "cell_type": "code",
      "execution_count": 12,
      "metadata": {
        "colab": {
          "base_uri": "https://localhost:8080/"
        },
        "id": "pp7Jh0L6i_Is",
        "outputId": "71018949-c345-41ea-ae4e-a1ac631c09ce"
      },
      "outputs": [
        {
          "name": "stdout",
          "output_type": "stream",
          "text": [
            "24-07-14 19:10:52 - Directory /root/.deepface created\n",
            "24-07-14 19:10:52 - Directory /root/.deepface/weights created\n",
            "24-07-14 19:10:56 - facenet512_weights.h5 will be downloaded...\n"
          ]
        },
        {
          "name": "stderr",
          "output_type": "stream",
          "text": [
            "Downloading...\n",
            "From: https://github.com/serengil/deepface_models/releases/download/v1.0/facenet512_weights.h5\n",
            "To: /root/.deepface/weights/facenet512_weights.h5\n",
            "100%|██████████| 95.0M/95.0M [00:00<00:00, 199MB/s]\n"
          ]
        }
      ],
      "source": [
        "from deepface import DeepFace\n",
        "embedding = DeepFace.represent(img_path='/content/lfw/Abdullah_Gul/Abdullah_Gul_0001.jpg', model_name = \"Facenet512\")"
      ]
    },
    {
      "cell_type": "code",
      "execution_count": 2,
      "metadata": {
        "colab": {
          "base_uri": "https://localhost:8080/",
          "height": 141
        },
        "id": "MDUQ6UdnnUF1",
        "outputId": "09267f9b-7ed5-4763-9f64-bc6c13bc03ef"
      },
      "outputs": [
        {
          "ename": "NameError",
          "evalue": "name 'intra_distances_original' is not defined",
          "output_type": "error",
          "traceback": [
            "\u001b[0;31m---------------------------------------------------------------------------\u001b[0m",
            "\u001b[0;31mNameError\u001b[0m                                 Traceback (most recent call last)",
            "\u001b[0;32m<ipython-input-2-e5b21fd5a0c0>\u001b[0m in \u001b[0;36m<cell line: 1>\u001b[0;34m()\u001b[0m\n\u001b[0;32m----> 1\u001b[0;31m \u001b[0mintra_distances_original\u001b[0m\u001b[0;34m.\u001b[0m\u001b[0mshape\u001b[0m\u001b[0;34m\u001b[0m\u001b[0;34m\u001b[0m\u001b[0m\n\u001b[0m",
            "\u001b[0;31mNameError\u001b[0m: name 'intra_distances_original' is not defined"
          ]
        }
      ],
      "source": [
        "intra_distances_original.shape"
      ]
    }
  ],
  "metadata": {
    "accelerator": "GPU",
    "colab": {
      "authorship_tag": "ABX9TyPvR6s5c870JuI/TpDe0h2f",
      "gpuType": "T4",
      "include_colab_link": true,
      "provenance": []
    },
    "kernelspec": {
      "display_name": "Python 3",
      "name": "python3"
    },
    "language_info": {
      "name": "python"
    },
    "widgets": {
      "application/vnd.jupyter.widget-state+json": {
        "58cc95e04d0a4df49b422ee5ea605e33": {
          "model_module": "@jupyter-widgets/controls",
          "model_module_version": "1.5.0",
          "model_name": "HTMLModel",
          "state": {
            "_dom_classes": [],
            "_model_module": "@jupyter-widgets/controls",
            "_model_module_version": "1.5.0",
            "_model_name": "HTMLModel",
            "_view_count": null,
            "_view_module": "@jupyter-widgets/controls",
            "_view_module_version": "1.5.0",
            "_view_name": "HTMLView",
            "description": "",
            "description_tooltip": null,
            "layout": "IPY_MODEL_e034193c3653424287e318b5db3bac27",
            "placeholder": "​",
            "style": "IPY_MODEL_9855b764e56d47078fb9f5f7e956b86d",
            "value": " 53/423 [06:25&lt;22:33,  3.66s/it]"
          }
        },
        "64b68a7fbed5414d8f234d14a4007da2": {
          "model_module": "@jupyter-widgets/base",
          "model_module_version": "1.2.0",
          "model_name": "LayoutModel",
          "state": {
            "_model_module": "@jupyter-widgets/base",
            "_model_module_version": "1.2.0",
            "_model_name": "LayoutModel",
            "_view_count": null,
            "_view_module": "@jupyter-widgets/base",
            "_view_module_version": "1.2.0",
            "_view_name": "LayoutView",
            "align_content": null,
            "align_items": null,
            "align_self": null,
            "border": null,
            "bottom": null,
            "display": null,
            "flex": null,
            "flex_flow": null,
            "grid_area": null,
            "grid_auto_columns": null,
            "grid_auto_flow": null,
            "grid_auto_rows": null,
            "grid_column": null,
            "grid_gap": null,
            "grid_row": null,
            "grid_template_areas": null,
            "grid_template_columns": null,
            "grid_template_rows": null,
            "height": null,
            "justify_content": null,
            "justify_items": null,
            "left": null,
            "margin": null,
            "max_height": null,
            "max_width": null,
            "min_height": null,
            "min_width": null,
            "object_fit": null,
            "object_position": null,
            "order": null,
            "overflow": null,
            "overflow_x": null,
            "overflow_y": null,
            "padding": null,
            "right": null,
            "top": null,
            "visibility": null,
            "width": null
          }
        },
        "9855b764e56d47078fb9f5f7e956b86d": {
          "model_module": "@jupyter-widgets/controls",
          "model_module_version": "1.5.0",
          "model_name": "DescriptionStyleModel",
          "state": {
            "_model_module": "@jupyter-widgets/controls",
            "_model_module_version": "1.5.0",
            "_model_name": "DescriptionStyleModel",
            "_view_count": null,
            "_view_module": "@jupyter-widgets/base",
            "_view_module_version": "1.2.0",
            "_view_name": "StyleView",
            "description_width": ""
          }
        },
        "a4fedddf367d4e138aa6d39aaf24453e": {
          "model_module": "@jupyter-widgets/controls",
          "model_module_version": "1.5.0",
          "model_name": "HBoxModel",
          "state": {
            "_dom_classes": [],
            "_model_module": "@jupyter-widgets/controls",
            "_model_module_version": "1.5.0",
            "_model_name": "HBoxModel",
            "_view_count": null,
            "_view_module": "@jupyter-widgets/controls",
            "_view_module_version": "1.5.0",
            "_view_name": "HBoxView",
            "box_style": "",
            "children": [
              "IPY_MODEL_d83a5f0afd474baea31297efbfeaae28",
              "IPY_MODEL_ed31ce0bd53e40878df27ade029b7b90",
              "IPY_MODEL_58cc95e04d0a4df49b422ee5ea605e33"
            ],
            "layout": "IPY_MODEL_ed0b3ae9fd3640a68dd9a233845b43d1"
          }
        },
        "d465d83af1e3435ea276e49d5dbc8147": {
          "model_module": "@jupyter-widgets/controls",
          "model_module_version": "1.5.0",
          "model_name": "ProgressStyleModel",
          "state": {
            "_model_module": "@jupyter-widgets/controls",
            "_model_module_version": "1.5.0",
            "_model_name": "ProgressStyleModel",
            "_view_count": null,
            "_view_module": "@jupyter-widgets/base",
            "_view_module_version": "1.2.0",
            "_view_name": "StyleView",
            "bar_color": null,
            "description_width": ""
          }
        },
        "d83a5f0afd474baea31297efbfeaae28": {
          "model_module": "@jupyter-widgets/controls",
          "model_module_version": "1.5.0",
          "model_name": "HTMLModel",
          "state": {
            "_dom_classes": [],
            "_model_module": "@jupyter-widgets/controls",
            "_model_module_version": "1.5.0",
            "_model_name": "HTMLModel",
            "_view_count": null,
            "_view_module": "@jupyter-widgets/controls",
            "_view_module_version": "1.5.0",
            "_view_name": "HTMLView",
            "description": "",
            "description_tooltip": null,
            "layout": "IPY_MODEL_f33a2d29c4254b288e74961dc2d33beb",
            "placeholder": "​",
            "style": "IPY_MODEL_e2e91221d6bd4ee7ad6dd4d318d457fd",
            "value": " 13%"
          }
        },
        "e034193c3653424287e318b5db3bac27": {
          "model_module": "@jupyter-widgets/base",
          "model_module_version": "1.2.0",
          "model_name": "LayoutModel",
          "state": {
            "_model_module": "@jupyter-widgets/base",
            "_model_module_version": "1.2.0",
            "_model_name": "LayoutModel",
            "_view_count": null,
            "_view_module": "@jupyter-widgets/base",
            "_view_module_version": "1.2.0",
            "_view_name": "LayoutView",
            "align_content": null,
            "align_items": null,
            "align_self": null,
            "border": null,
            "bottom": null,
            "display": null,
            "flex": null,
            "flex_flow": null,
            "grid_area": null,
            "grid_auto_columns": null,
            "grid_auto_flow": null,
            "grid_auto_rows": null,
            "grid_column": null,
            "grid_gap": null,
            "grid_row": null,
            "grid_template_areas": null,
            "grid_template_columns": null,
            "grid_template_rows": null,
            "height": null,
            "justify_content": null,
            "justify_items": null,
            "left": null,
            "margin": null,
            "max_height": null,
            "max_width": null,
            "min_height": null,
            "min_width": null,
            "object_fit": null,
            "object_position": null,
            "order": null,
            "overflow": null,
            "overflow_x": null,
            "overflow_y": null,
            "padding": null,
            "right": null,
            "top": null,
            "visibility": null,
            "width": null
          }
        },
        "e2e91221d6bd4ee7ad6dd4d318d457fd": {
          "model_module": "@jupyter-widgets/controls",
          "model_module_version": "1.5.0",
          "model_name": "DescriptionStyleModel",
          "state": {
            "_model_module": "@jupyter-widgets/controls",
            "_model_module_version": "1.5.0",
            "_model_name": "DescriptionStyleModel",
            "_view_count": null,
            "_view_module": "@jupyter-widgets/base",
            "_view_module_version": "1.2.0",
            "_view_name": "StyleView",
            "description_width": ""
          }
        },
        "ed0b3ae9fd3640a68dd9a233845b43d1": {
          "model_module": "@jupyter-widgets/base",
          "model_module_version": "1.2.0",
          "model_name": "LayoutModel",
          "state": {
            "_model_module": "@jupyter-widgets/base",
            "_model_module_version": "1.2.0",
            "_model_name": "LayoutModel",
            "_view_count": null,
            "_view_module": "@jupyter-widgets/base",
            "_view_module_version": "1.2.0",
            "_view_name": "LayoutView",
            "align_content": null,
            "align_items": null,
            "align_self": null,
            "border": null,
            "bottom": null,
            "display": null,
            "flex": null,
            "flex_flow": null,
            "grid_area": null,
            "grid_auto_columns": null,
            "grid_auto_flow": null,
            "grid_auto_rows": null,
            "grid_column": null,
            "grid_gap": null,
            "grid_row": null,
            "grid_template_areas": null,
            "grid_template_columns": null,
            "grid_template_rows": null,
            "height": null,
            "justify_content": null,
            "justify_items": null,
            "left": null,
            "margin": null,
            "max_height": null,
            "max_width": null,
            "min_height": null,
            "min_width": null,
            "object_fit": null,
            "object_position": null,
            "order": null,
            "overflow": null,
            "overflow_x": null,
            "overflow_y": null,
            "padding": null,
            "right": null,
            "top": null,
            "visibility": null,
            "width": null
          }
        },
        "ed31ce0bd53e40878df27ade029b7b90": {
          "model_module": "@jupyter-widgets/controls",
          "model_module_version": "1.5.0",
          "model_name": "FloatProgressModel",
          "state": {
            "_dom_classes": [],
            "_model_module": "@jupyter-widgets/controls",
            "_model_module_version": "1.5.0",
            "_model_name": "FloatProgressModel",
            "_view_count": null,
            "_view_module": "@jupyter-widgets/controls",
            "_view_module_version": "1.5.0",
            "_view_name": "ProgressView",
            "bar_style": "",
            "description": "",
            "description_tooltip": null,
            "layout": "IPY_MODEL_64b68a7fbed5414d8f234d14a4007da2",
            "max": 423,
            "min": 0,
            "orientation": "horizontal",
            "style": "IPY_MODEL_d465d83af1e3435ea276e49d5dbc8147",
            "value": 53
          }
        },
        "f33a2d29c4254b288e74961dc2d33beb": {
          "model_module": "@jupyter-widgets/base",
          "model_module_version": "1.2.0",
          "model_name": "LayoutModel",
          "state": {
            "_model_module": "@jupyter-widgets/base",
            "_model_module_version": "1.2.0",
            "_model_name": "LayoutModel",
            "_view_count": null,
            "_view_module": "@jupyter-widgets/base",
            "_view_module_version": "1.2.0",
            "_view_name": "LayoutView",
            "align_content": null,
            "align_items": null,
            "align_self": null,
            "border": null,
            "bottom": null,
            "display": null,
            "flex": null,
            "flex_flow": null,
            "grid_area": null,
            "grid_auto_columns": null,
            "grid_auto_flow": null,
            "grid_auto_rows": null,
            "grid_column": null,
            "grid_gap": null,
            "grid_row": null,
            "grid_template_areas": null,
            "grid_template_columns": null,
            "grid_template_rows": null,
            "height": null,
            "justify_content": null,
            "justify_items": null,
            "left": null,
            "margin": null,
            "max_height": null,
            "max_width": null,
            "min_height": null,
            "min_width": null,
            "object_fit": null,
            "object_position": null,
            "order": null,
            "overflow": null,
            "overflow_x": null,
            "overflow_y": null,
            "padding": null,
            "right": null,
            "top": null,
            "visibility": null,
            "width": null
          }
        }
      }
    }
  },
  "nbformat": 4,
  "nbformat_minor": 0
}
